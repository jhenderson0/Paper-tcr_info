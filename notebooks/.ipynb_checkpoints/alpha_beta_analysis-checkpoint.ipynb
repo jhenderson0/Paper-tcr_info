{
 "cells": [
  {
   "cell_type": "code",
   "execution_count": 1,
   "id": "e6f041af",
   "metadata": {},
   "outputs": [],
   "source": [
    "import pandas as pd\n",
    "import numpy as np\n",
    "\n",
    "#Pyrepseq imports\n",
    "import pyrepseq as prs\n",
    "\n",
    "#Plotting imports\n",
    "import matplotlib.pyplot as plt\n",
    "from matplotlib.pyplot import cm\n",
    "import matplotlib.style \n",
    "import matplotlib as mpl "
   ]
  },
  {
   "cell_type": "code",
   "execution_count": 2,
   "id": "c177b739",
   "metadata": {},
   "outputs": [],
   "source": [
    "#Set default plotting parameters\n",
    "mpl.rcParams['figure.figsize'] = [4.0, 4.0] \n",
    "mpl.rcParams[\"legend.frameon\"] = False\n",
    "mpl.rcParams['figure.dpi']=500 \n",
    "\n",
    "SMALL_SIZE = 12\n",
    "MEDIUM_SIZE = 14\n",
    "BIGGER_SIZE = 20\n",
    "\n",
    "plt.rc('font', size=MEDIUM_SIZE)          # controls default text sizes\n",
    "plt.rc('axes', titlesize=BIGGER_SIZE)     # fontsize of the axes title\n",
    "plt.rc('axes', labelsize=MEDIUM_SIZE)    # fontsize of the x and y labels\n",
    "plt.rc('xtick', labelsize=SMALL_SIZE)    # fontsize of the tick labels\n",
    "plt.rc('ytick', labelsize=SMALL_SIZE)    # fontsize of the tick labels\n",
    "plt.rc('legend', fontsize=MEDIUM_SIZE)    # legend fontsize\n",
    "plt.rc('figure', titlesize=BIGGER_SIZE)  # fontsize of the figure title"
   ]
  },
  {
   "cell_type": "markdown",
   "id": "d7528655",
   "metadata": {},
   "source": [
    "## Data imports\n",
    "\n",
    "### Specific sequences - VDJdb"
   ]
  },
  {
   "cell_type": "code",
   "execution_count": 3,
   "id": "91c99c4e",
   "metadata": {},
   "outputs": [],
   "source": [
    "vdjdb = pd.read_csv('../../data/vdjdb/vdjdb_paired_human_preprocessed.csv',sep=',')\n",
    "vdjdb = vdjdb.dropna(subset = [\"CDR3B\", \"TRBV\", \"TRBJ\", \"CDR3A\", \"TRAV\", \"TRAJ\"] ).reset_index().drop(\"index\", axis=1)\n",
    "\n",
    "\n",
    "vdjdb[\"Alpha\"] = vdjdb[\"CDR3A\"] +  vdjdb[\"TRAV\"]\n",
    "vdjdb[\"Beta\"] = vdjdb[\"CDR3B\"] +  vdjdb[\"TRBV\"]"
   ]
  },
  {
   "cell_type": "markdown",
   "id": "266cd870",
   "metadata": {},
   "source": [
    "### Background sequences - tanno"
   ]
  },
  {
   "cell_type": "code",
   "execution_count": 5,
   "id": "e52beb19",
   "metadata": {},
   "outputs": [],
   "source": [
    "tanno = pd.read_csv('../../data/tanno/preprocessed/combined.csv',sep=',')\n",
    "tanno = tanno.dropna(subset = [\"CDR3B\", \"TRBV\", \"TRBJ\", \"CDR3A\", \"TRAV\", \"TRAJ\"] ).reset_index().drop(\"index\", axis=1)\n",
    "\n",
    "tanno[\"Alpha\"] = tanno[\"CDR3A\"] +  tanno[\"TRAV\"]\n",
    "tanno[\"Beta\"] = tanno[\"CDR3B\"] +  tanno[\"TRBV\"]"
   ]
  },
  {
   "cell_type": "markdown",
   "id": "2b5eb21b",
   "metadata": {},
   "source": [
    "## Relevancy scores"
   ]
  },
  {
   "cell_type": "code",
   "execution_count": 6,
   "id": "72937e02",
   "metadata": {},
   "outputs": [],
   "source": [
    "rel_dict = prs.tcr_info.feature_relevance_dict(vdjdb, tanno, features=[\"Alpha\", \"Beta\"]\n",
    "                                               , spc_group_column=\"Epitope\", unpair_background=True)"
   ]
  },
  {
   "cell_type": "code",
   "execution_count": 7,
   "id": "0d1b7e81",
   "metadata": {},
   "outputs": [
    {
     "data": {
      "text/plain": [
       "{'features': ['Alpha', 'Beta'],\n",
       " 'Alpha': 9.433670039561719,\n",
       " 'Alpha+Beta': 28.108089474886107,\n",
       " 'Beta': 14.016909520997206,\n",
       " 'Beta+Alpha': 28.108089474886107}"
      ]
     },
     "execution_count": 7,
     "metadata": {},
     "output_type": "execute_result"
    }
   ],
   "source": [
    "rel_dict"
   ]
  },
  {
   "cell_type": "code",
   "execution_count": null,
   "id": "98a790a0",
   "metadata": {},
   "outputs": [],
   "source": []
  }
 ],
 "metadata": {
  "kernelspec": {
   "display_name": "Python 3 (ipykernel)",
   "language": "python",
   "name": "python3"
  },
  "language_info": {
   "codemirror_mode": {
    "name": "ipython",
    "version": 3
   },
   "file_extension": ".py",
   "mimetype": "text/x-python",
   "name": "python",
   "nbconvert_exporter": "python",
   "pygments_lexer": "ipython3",
   "version": "3.10.9"
  }
 },
 "nbformat": 4,
 "nbformat_minor": 5
}
